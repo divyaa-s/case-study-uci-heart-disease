{
 "cells": [
  {
   "cell_type": "markdown",
   "id": "d16a4ec7",
   "metadata": {},
   "source": [
    "\n",
    "# 21AIC401T – Case Study (UCI Heart)\n",
    "\n",
    "This notebook performs the three required hypothesis tests on the **CleanedData** sheet in `heart_case_study_cleaned.xlsx`:\n",
    "\n",
    "1. **One-sample t-test**: `resting_bp` vs 120 mmHg (excluding values ≤ 0)  \n",
    "2. **Two-sample t-test**: `cholesterol` by `sex` (Male vs Female) with Levene's test and Welch correction if needed  \n",
    "3. **One-way ANOVA**: `thalch` by `chest_pain` with **Tukey HSD** post-hoc\n",
    "\n"
   ]
  },
  {
   "cell_type": "code",
   "execution_count": 2,
   "id": "3633b63d",
   "metadata": {},
   "outputs": [
    {
     "name": "stdout",
     "output_type": "stream",
     "text": [
      "Collecting statsmodels\n",
      "  Downloading statsmodels-0.14.5-cp311-cp311-win_amd64.whl.metadata (9.8 kB)\n",
      "Requirement already satisfied: numpy<3,>=1.22.3 in c:\\users\\divyaa sriram\\appdata\\local\\programs\\python\\python311\\lib\\site-packages (from statsmodels) (1.23.5)\n",
      "Requirement already satisfied: scipy!=1.9.2,>=1.8 in c:\\users\\divyaa sriram\\appdata\\local\\programs\\python\\python311\\lib\\site-packages (from statsmodels) (1.12.0)\n",
      "Requirement already satisfied: pandas!=2.1.0,>=1.4 in c:\\users\\divyaa sriram\\appdata\\local\\programs\\python\\python311\\lib\\site-packages (from statsmodels) (2.2.0)\n",
      "Collecting patsy>=0.5.6 (from statsmodels)\n",
      "  Downloading patsy-1.0.1-py2.py3-none-any.whl.metadata (3.3 kB)\n",
      "Requirement already satisfied: packaging>=21.3 in c:\\users\\divyaa sriram\\appdata\\local\\programs\\python\\python311\\lib\\site-packages (from statsmodels) (23.2)\n",
      "Requirement already satisfied: python-dateutil>=2.8.2 in c:\\users\\divyaa sriram\\appdata\\local\\programs\\python\\python311\\lib\\site-packages (from pandas!=2.1.0,>=1.4->statsmodels) (2.8.2)\n",
      "Requirement already satisfied: pytz>=2020.1 in c:\\users\\divyaa sriram\\appdata\\local\\programs\\python\\python311\\lib\\site-packages (from pandas!=2.1.0,>=1.4->statsmodels) (2021.1)\n",
      "Requirement already satisfied: tzdata>=2022.7 in c:\\users\\divyaa sriram\\appdata\\local\\programs\\python\\python311\\lib\\site-packages (from pandas!=2.1.0,>=1.4->statsmodels) (2023.3)\n",
      "Requirement already satisfied: six>=1.5 in c:\\users\\divyaa sriram\\appdata\\local\\programs\\python\\python311\\lib\\site-packages (from python-dateutil>=2.8.2->pandas!=2.1.0,>=1.4->statsmodels) (1.16.0)\n",
      "Downloading statsmodels-0.14.5-cp311-cp311-win_amd64.whl (9.6 MB)\n",
      "   ---------------------------------------- 0.0/9.6 MB ? eta -:--:--\n",
      "   ----------------------------- ---------- 7.1/9.6 MB 36.4 MB/s eta 0:00:01\n",
      "   ---------------------------------------- 9.6/9.6 MB 30.1 MB/s eta 0:00:00\n",
      "Downloading patsy-1.0.1-py2.py3-none-any.whl (232 kB)\n",
      "Installing collected packages: patsy, statsmodels\n",
      "Successfully installed patsy-1.0.1 statsmodels-0.14.5\n"
     ]
    },
    {
     "name": "stderr",
     "output_type": "stream",
     "text": [
      "\n",
      "[notice] A new release of pip is available: 25.0.1 -> 25.2\n",
      "[notice] To update, run: python.exe -m pip install --upgrade pip\n"
     ]
    }
   ],
   "source": [
    "!pip install statsmodels\n"
   ]
  },
  {
   "cell_type": "code",
   "execution_count": 3,
   "id": "63bb42e6",
   "metadata": {},
   "outputs": [
    {
     "name": "stdout",
     "output_type": "stream",
     "text": [
      "Environment ready.\n"
     ]
    }
   ],
   "source": [
    "\n",
    "import pandas as pd\n",
    "import numpy as np\n",
    "from scipy import stats\n",
    "import statsmodels.api as sm\n",
    "import statsmodels.formula.api as smf\n",
    "from statsmodels.stats.multicomp import pairwise_tukeyhsd\n",
    "import matplotlib.pyplot as plt\n",
    "import os\n",
    "\n",
    "DATA_PATH = \"heart_case_study_cleaned.xlsx\"\n",
    "SHEET = \"CleanedData\"\n",
    "\n",
    "OUT_DIR = \"python_outputs\"\n",
    "os.makedirs(OUT_DIR, exist_ok=True)\n",
    "\n",
    "def cohens_d_one_sample(sample, mu0):\n",
    "    s = np.std(sample, ddof=1)\n",
    "    return (np.mean(sample) - mu0) / s if s > 0 else np.nan\n",
    "\n",
    "def hedges_g_two_sample(x, y):\n",
    "    nx, ny = len(x), len(y)\n",
    "    sx2, sy2 = np.var(x, ddof=1), np.var(y, ddof=1)\n",
    "    sp = np.sqrt(((nx-1)*sx2 + (ny-1)*sy2) / (nx+ny-2))\n",
    "    d = (np.mean(x) - np.mean(y)) / sp if sp > 0 else np.nan\n",
    "    J = 1 - (3 / (4*(nx+ny) - 9)) \n",
    "    return d * J\n",
    "\n",
    "def mean_ci(sample, alpha=0.05):\n",
    "    n = len(sample)\n",
    "    m = np.mean(sample)\n",
    "    s = np.std(sample, ddof=1)\n",
    "    se = s/np.sqrt(n) if n>0 else np.nan\n",
    "    tcrit = stats.t.ppf(1 - alpha/2, df=n-1) if n>1 else np.nan\n",
    "    return (m - tcrit*se, m + tcrit*se) if n>1 else (np.nan, np.nan)\n",
    "\n",
    "print(\"Environment ready.\")"
   ]
  },
  {
   "cell_type": "markdown",
   "id": "09b13a40",
   "metadata": {},
   "source": [
    "## Load and prepare data"
   ]
  },
  {
   "cell_type": "code",
   "execution_count": 4,
   "id": "caae52c3",
   "metadata": {},
   "outputs": [
    {
     "name": "stdout",
     "output_type": "stream",
     "text": [
      "   id  age   sex    dataset      chest_pain  resting_bp  cholesterol  \\\n",
      "0   1   63  Male  Cleveland  typical angina         145          233   \n",
      "1   2   67  Male  Cleveland    asymptomatic         160          286   \n",
      "2   3   67  Male  Cleveland    asymptomatic         120          229   \n",
      "\n",
      "   fasting_bs        rest_ecg  thalch  ...  st_depression     st_slope  \\\n",
      "0         1.0  lv hypertrophy     150  ...            2.3  downsloping   \n",
      "1         0.0  lv hypertrophy     108  ...            1.5         flat   \n",
      "2         0.0  lv hypertrophy     129  ...            2.6         flat   \n",
      "\n",
      "  vessels               thal target  age_group Unnamed: 17  Unnamed: 18  \\\n",
      "0     0.0       fixed defect      0        >60         NaN          NaN   \n",
      "1     3.0             normal      2        >60         NaN          NaN   \n",
      "2     2.0  reversable defect      1        >60         NaN          NaN   \n",
      "\n",
      "   ONE SAMPLE T-TEST Unnamed: 20  \n",
      "0                NaN         NaN  \n",
      "1         Hypothesis         NaN  \n",
      "2       H₀: μ = 120          NaN  \n",
      "\n",
      "[3 rows x 21 columns]\n",
      "\n",
      "Rows: 832\n"
     ]
    }
   ],
   "source": [
    "\n",
    "df = pd.read_excel(DATA_PATH, sheet_name=SHEET).copy()\n",
    "\n",
    "for col in [\"resting_bp\", \"cholesterol\", \"thalch\"]:\n",
    "    df[col] = pd.to_numeric(df[col], errors=\"coerce\")\n",
    "\n",
    "df[\"sex\"] = df[\"sex\"].astype(str).str.strip().str.capitalize()\n",
    "df[\"chest_pain\"] = df[\"chest_pain\"].astype(str).str.strip()\n",
    "\n",
    "print(df.head(3))\n",
    "print(\"\\nRows:\", len(df))"
   ]
  },
  {
   "cell_type": "markdown",
   "id": "268e3674",
   "metadata": {},
   "source": [
    "## 1) One-sample t-test — `resting_bp` vs 120 mmHg (exclude ≤ 0)"
   ]
  },
  {
   "cell_type": "code",
   "execution_count": 1,
   "id": "fba9fde1",
   "metadata": {},
   "outputs": [],
   "source": [
    "import pandas as pd\n",
    "import numpy as np\n",
    "from scipy import stats\n",
    "import statsmodels.api as sm\n",
    "import statsmodels.formula.api as smf\n",
    "\n",
    "# Load data\n",
    "df = pd.read_excel(\"heart_case_study_cleaned.xlsx\", sheet_name=\"CleanedData\")\n",
    "for col in [\"resting_bp\", \"cholesterol\", \"thalch\"]:\n",
    "    df[col] = pd.to_numeric(df[col], errors=\"coerce\")\n",
    "\n",
    "df[\"sex\"] = df[\"sex\"].astype(str).str.strip().str.capitalize()\n",
    "df[\"chest_pain\"] = df[\"chest_pain\"].astype(str).str.strip()\n",
    "\n",
    "results = {}\n",
    "summary_rows = []\n",
    "\n",
    "# 1) One-sample t-test (resting_bp vs 120, exclude ≤0)\n",
    "bp = df.loc[df[\"resting_bp\"] > 0, \"resting_bp\"].dropna()\n",
    "n1, mean1, sd1 = len(bp), bp.mean(), bp.std(ddof=1)\n",
    "t1, p1 = stats.ttest_1samp(bp, 120)\n",
    "df1 = n1 - 1\n",
    "\n",
    "results[\"one_sample\"] = {\n",
    "    \"n\": n1, \"mean\": mean1, \"sd\": sd1, \"df\": df1,\n",
    "    \"t_stat\": t1, \"p_val\": p1,\n",
    "    \"decision\": \"Reject H0\" if p1 < 0.05 else \"Fail to reject H0\"\n",
    "}\n",
    "summary_rows.append({\n",
    "    \"Test\": \"One-sample t (resting_bp vs 120)\",\n",
    "    \"Group/Levels\": \"-\",\n",
    "    \"n\": n1, \"Mean\": mean1, \"Std Dev\": sd1,\n",
    "    \"df\": df1, \"Statistic\": t1, \"p-value\": p1,\n",
    "    \"Decision (α=0.05)\": \"Reject H0\" if p1 < 0.05 else \"Fail to reject H0\"\n",
    "})\n"
   ]
  },
  {
   "cell_type": "markdown",
   "id": "f9a797b4",
   "metadata": {},
   "source": [
    "## 2) Two-sample t-test — `cholesterol` by `sex` (Male vs Female)"
   ]
  },
  {
   "cell_type": "code",
   "execution_count": null,
   "id": "6e3a4e2b",
   "metadata": {},
   "outputs": [],
   "source": [
    "g_m = df.loc[df[\"sex\"]==\"Male\", \"cholesterol\"].dropna()\n",
    "g_f = df.loc[df[\"sex\"]==\"Female\", \"cholesterol\"].dropna()\n",
    "\n",
    "n_m, n_f = len(g_m), len(g_f)\n",
    "mean_m, mean_f = g_m.mean(), g_f.mean()\n",
    "sd_m, sd_f = g_m.std(ddof=1), g_f.std(ddof=1)\n",
    "\n",
    "t2, p2 = stats.ttest_ind(g_m, g_f, equal_var=False)\n",
    "df2 = n_m + n_f - 2\n",
    "\n",
    "results[\"two_sample\"] = {\n",
    "    \"male_n\": n_m, \"female_n\": n_f,\n",
    "    \"male_mean\": mean_m, \"female_mean\": mean_f,\n",
    "    \"male_sd\": sd_m, \"female_sd\": sd_f,\n",
    "    \"df\": df2, \"t_stat\": t2, \"p_val\": p2,\n",
    "    \"decision\": \"Reject H0\" if p2 < 0.05 else \"Fail to reject H0\"\n",
    "}\n",
    "summary_rows.append({\n",
    "    \"Test\": \"Two-sample t (cholesterol: Male vs Female)\",\n",
    "    \"Group/Levels\": \"Male / Female\",\n",
    "    \"n\": f\"{n_m} / {n_f}\",\n",
    "    \"Mean\": f\"{mean_m:.2f} / {mean_f:.2f}\",\n",
    "    \"Std Dev\": f\"{sd_m:.2f} / {sd_f:.2f}\",\n",
    "    \"df\": df2, \"Statistic\": t2, \"p-value\": p2,\n",
    "    \"Decision (α=0.05)\": \"Reject H0\" if p2 < 0.05 else \"Fail to reject H0\"\n",
    "})"
   ]
  },
  {
   "cell_type": "markdown",
   "id": "0667cb20",
   "metadata": {},
   "source": [
    "## 3) One-way ANOVA — `thalch` by `chest_pain` + Tukey HSD"
   ]
  },
  {
   "cell_type": "code",
   "execution_count": 3,
   "id": "3d343322",
   "metadata": {},
   "outputs": [],
   "source": [
    "sub = df[[\"thalch\", \"chest_pain\"]].dropna().copy()\n",
    "sub[\"chest_pain\"] = sub[\"chest_pain\"].astype(\"category\")\n",
    "\n",
    "model = smf.ols(\"thalch ~ C(chest_pain)\", data=sub).fit()\n",
    "anova_tbl = sm.stats.anova_lm(model, typ=2)\n",
    "\n",
    "F_val = float(anova_tbl.loc[\"C(chest_pain)\", \"F\"])\n",
    "p3 = float(anova_tbl.loc[\"C(chest_pain)\", \"PR(>F)\"])\n",
    "df_between = int(anova_tbl.loc[\"C(chest_pain)\", \"df\"])\n",
    "df_within = int(anova_tbl.loc[\"Residual\", \"df\"])\n",
    "\n",
    "results[\"anova\"] = {\n",
    "    \"n\": len(sub),\n",
    "    \"df_between\": df_between, \"df_within\": df_within,\n",
    "    \"F_stat\": F_val, \"p_val\": p3,\n",
    "    \"decision\": \"Reject H0\" if p3 < 0.05 else \"Fail to reject H0\"\n",
    "}\n",
    "summary_rows.append({\n",
    "    \"Test\": \"One-way ANOVA (thalch ~ chest_pain)\",\n",
    "    \"Group/Levels\": f\"{sub['chest_pain'].nunique()} chest_pain levels\",\n",
    "    \"n\": len(sub),\n",
    "    \"Mean\": \"-\",\n",
    "    \"Std Dev\": \"-\",\n",
    "    \"df\": f\"{df_between}, {df_within}\",\n",
    "    \"Statistic\": F_val, \"p-value\": p3,\n",
    "    \"Decision (α=0.05)\": \"Reject H0\" if p3 < 0.05 else \"Fail to reject H0\"\n",
    "})"
   ]
  },
  {
   "cell_type": "code",
   "execution_count": 4,
   "id": "1f4a2190",
   "metadata": {},
   "outputs": [
    {
     "name": "stdout",
     "output_type": "stream",
     "text": [
      "\n",
      "--- ONE_SAMPLE ---\n",
      "n: 832\n",
      "mean: 132.31129807692307\n",
      "sd: 18.452670579130206\n",
      "df: 831\n",
      "t_stat: 19.244484441865392\n",
      "p_val: 1.5412543274389598e-68\n",
      "decision: Reject H0\n",
      "\n",
      "--- TWO_SAMPLE ---\n",
      "male_n: 647\n",
      "female_n: 185\n",
      "male_mean: 188.53013910355486\n",
      "female_mean: 242.42702702702704\n",
      "male_sd: 113.73159132018732\n",
      "female_sd: 84.76583040766104\n",
      "df: 830\n",
      "t_stat: -7.026833533298425\n",
      "p_val: 9.396303054527558e-12\n",
      "decision: Reject H0\n",
      "\n",
      "--- ANOVA ---\n",
      "n: 832\n",
      "df_between: 3\n",
      "df_within: 828\n",
      "F_stat: 44.66601508371315\n",
      "p_val: 9.267302115755024e-27\n",
      "decision: Reject H0\n",
      "\n",
      "=== Summary Table ===\n",
      "                                      Test        Group/Levels         n            Mean        Std Dev     df  Statistic      p-value Decision (α=0.05)\n",
      "          One-sample t (resting_bp vs 120)                   -       832      132.311298      18.452671    831  19.244484 1.541254e-68         Reject H0\n",
      "Two-sample t (cholesterol: Male vs Female)       Male / Female 647 / 185 188.53 / 242.43 113.73 / 84.77    830  -7.026834 9.396303e-12         Reject H0\n",
      "       One-way ANOVA (thalch ~ chest_pain) 4 chest_pain levels       832               -              - 3, 828  44.666015 9.267302e-27         Reject H0\n"
     ]
    }
   ],
   "source": [
    "summary_df = pd.DataFrame(summary_rows)\n",
    "\n",
    "# Print detailed results\n",
    "for test, vals in results.items():\n",
    "    print(f\"\\n--- {test.upper()} ---\")\n",
    "    for k, v in vals.items():\n",
    "        print(f\"{k}: {v}\")\n",
    "\n",
    "print(\"\\n=== Summary Table ===\")\n",
    "print(summary_df.to_string(index=False))"
   ]
  },
  {
   "cell_type": "code",
   "execution_count": null,
   "id": "7cd0c2c5",
   "metadata": {},
   "outputs": [],
   "source": []
  }
 ],
 "metadata": {
  "kernelspec": {
   "display_name": "Python 3",
   "language": "python",
   "name": "python3"
  },
  "language_info": {
   "codemirror_mode": {
    "name": "ipython",
    "version": 3
   },
   "file_extension": ".py",
   "mimetype": "text/x-python",
   "name": "python",
   "nbconvert_exporter": "python",
   "pygments_lexer": "ipython3",
   "version": "3.11.4"
  }
 },
 "nbformat": 4,
 "nbformat_minor": 5
}
