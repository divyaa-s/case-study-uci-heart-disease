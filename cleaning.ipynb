{
 "cells": [
  {
   "cell_type": "code",
   "execution_count": 8,
   "id": "e8112a50",
   "metadata": {},
   "outputs": [
    {
     "name": "stdout",
     "output_type": "stream",
     "text": [
      "Original shape: (920, 16)\n",
      "Columns: ['id', 'age', 'sex', 'dataset', 'cp', 'trestbps', 'chol', 'fbs', 'restecg', 'thalch', 'exang', 'oldpeak', 'slope', 'ca', 'thal', 'num']\n"
     ]
    }
   ],
   "source": [
    "import pandas as pd\n",
    "import numpy as np\n",
    "\n",
    "# === Step 0: Update this path to your CSV if needed ===\n",
    "csv_path = \"Dataset\\heart_disease_uci.csv\"  \n",
    "output_file = \"heart_case_study_cleaned.xlsx\"\n",
    "\n",
    "# === Step 1: Load dataset ===\n",
    "df = pd.read_csv(csv_path)\n",
    "print(\"Original shape:\", df.shape)\n",
    "print(\"Columns:\", df.columns.tolist())\n"
   ]
  },
  {
   "cell_type": "code",
   "execution_count": 9,
   "id": "19328f56",
   "metadata": {},
   "outputs": [],
   "source": [
    "# === Step 2: Clean column names ===\n",
    "df.columns = [c.strip().lower() for c in df.columns]\n",
    "\n",
    "# Rename columns if they exist\n",
    "rename_dict = {\n",
    "    \"age\": \"age\",\n",
    "    \"sex\": \"sex\",\n",
    "    \"cp\": \"chest_pain\",\n",
    "    \"trestbps\": \"resting_bp\",\n",
    "    \"chol\": \"cholesterol\",\n",
    "    \"fbs\": \"fasting_bs\",\n",
    "    \"restecg\": \"rest_ecg\",\n",
    "    \"thalach\": \"max_hr\",\n",
    "    \"exang\": \"exercise_angina\",\n",
    "    \"oldpeak\": \"st_depression\",\n",
    "    \"slope\": \"st_slope\",\n",
    "    \"ca\": \"vessels\",\n",
    "    \"thal\": \"thal\",\n",
    "    \"num\": \"target\",\n",
    "    \"target\": \"target\",\n",
    "    \"id\": \"id\"\n",
    "}\n",
    "\n",
    "rename_subset = {k: v for k, v in rename_dict.items() if k in df.columns}\n",
    "df = df.rename(columns=rename_subset)\n"
   ]
  },
  {
   "cell_type": "code",
   "execution_count": 10,
   "id": "2204d098",
   "metadata": {},
   "outputs": [],
   "source": [
    "# === Step 3: Replace common missing tokens and convert numeric cols ===\n",
    "df.replace([\"?\", \"NA\", \"N/A\", \"\"], np.nan, inplace=True)\n",
    "\n",
    "for col in [\"age\",\"resting_bp\",\"cholesterol\",\"max_hr\",\"st_depression\",\"vessels\"]:\n",
    "    if col in df.columns:\n",
    "        df[col] = pd.to_numeric(df[col], errors=\"coerce\")\n",
    "\n"
   ]
  },
  {
   "cell_type": "code",
   "execution_count": 11,
   "id": "bd817ab3",
   "metadata": {},
   "outputs": [
    {
     "name": "stdout",
     "output_type": "stream",
     "text": [
      "Essential columns detected: ['age', 'sex', 'resting_bp', 'cholesterol', 'target']\n",
      "Dropped 86 rows with missing essential values. New shape: (834, 16)\n"
     ]
    }
   ],
   "source": [
    "# === Step 4: Simple cleaning strategy ===\n",
    "essential = [c for c in [\"age\",\"sex\",\"resting_bp\",\"cholesterol\",\"max_hr\",\"target\"] if c in df.columns]\n",
    "print(\"Essential columns detected:\", essential)\n",
    "\n",
    "df_before = df.shape[0]\n",
    "df = df.dropna(subset=essential)\n",
    "print(f\"Dropped {df_before - df.shape[0]} rows with missing essential values. New shape: {df.shape}\")\n"
   ]
  },
  {
   "cell_type": "code",
   "execution_count": 12,
   "id": "4e170497",
   "metadata": {},
   "outputs": [
    {
     "name": "stderr",
     "output_type": "stream",
     "text": [
      "C:\\Users\\Divyaa Sriram\\AppData\\Local\\Temp\\ipykernel_31020\\1241260708.py:18: FutureWarning: Downcasting object dtype arrays on .fillna, .ffill, .bfill is deprecated and will change in a future version. Call result.infer_objects(copy=False) instead. To opt-in to the future behavior, set `pd.set_option('future.no_silent_downcasting', True)`\n",
      "  df[\"exercise_angina\"] = df[\"exercise_angina\"].map({1:True, 0:False}).fillna(df[\"exercise_angina\"])\n"
     ]
    }
   ],
   "source": [
    "# === Step 5: Standardize some categorical encodings ===\n",
    "if \"sex\" in df.columns:\n",
    "    if pd.api.types.is_numeric_dtype(df[\"sex\"]):\n",
    "        vals = set(df[\"sex\"].dropna().astype(int).unique())\n",
    "        if vals.issubset({0,1}):\n",
    "            df[\"sex\"] = df[\"sex\"].map({1:\"Male\", 0:\"Female\"})\n",
    "        elif vals.issubset({1,2}):\n",
    "            df[\"sex\"] = df[\"sex\"].map({1:\"Male\", 2:\"Female\"})\n",
    "        else:\n",
    "            df[\"sex\"] = df[\"sex\"].astype(str)\n",
    "    else:\n",
    "        df[\"sex\"] = df[\"sex\"].astype(str).str.capitalize()\n",
    "\n",
    "if \"fasting_bs\" in df.columns:\n",
    "    df[\"fasting_bs\"] = df[\"fasting_bs\"].map({1:True, 0:False}).fillna(df[\"fasting_bs\"])\n",
    "\n",
    "if \"exercise_angina\" in df.columns:\n",
    "    df[\"exercise_angina\"] = df[\"exercise_angina\"].map({1:True, 0:False}).fillna(df[\"exercise_angina\"])\n"
   ]
  },
  {
   "cell_type": "code",
   "execution_count": 13,
   "id": "ab63ae5f",
   "metadata": {},
   "outputs": [],
   "source": [
    "# === Step 6: Create age_group for ANOVA ===\n",
    "if \"age\" in df.columns:\n",
    "    bins = [0,29,45,60,200]\n",
    "    labels = [\"<30\",\"30-45\",\"46-60\",\">60\"]\n",
    "    df[\"age_group\"] = pd.cut(df[\"age\"], bins=bins, labels=labels, include_lowest=True)\n"
   ]
  },
  {
   "cell_type": "code",
   "execution_count": 14,
   "id": "df4d3771",
   "metadata": {},
   "outputs": [],
   "source": [
    "# === Step 7: Build README variable dictionary safely ===\n",
    "desc_map = {\n",
    "    \"id\": \"Unique patient identifier (if present)\",\n",
    "    \"age\": \"Age in years\",\n",
    "    \"sex\": \"Sex (Male/Female)\",\n",
    "    \"chest_pain\": \"Chest pain type (categorical)\",\n",
    "    \"resting_bp\": \"Resting blood pressure (mm Hg)\",\n",
    "    \"cholesterol\": \"Serum cholesterol (mg/dl)\",\n",
    "    \"fasting_bs\": \"Fasting blood sugar > 120 mg/dl (True/False)\",\n",
    "    \"rest_ecg\": \"Resting electrocardiographic results (categorical)\",\n",
    "    \"max_hr\": \"Maximum heart rate achieved\",\n",
    "    \"exercise_angina\": \"Exercise-induced angina (True/False)\",\n",
    "    \"st_depression\": \"ST depression induced by exercise\",\n",
    "    \"st_slope\": \"Slope of the peak exercise ST segment\",\n",
    "    \"vessels\": \"Number of major vessels colored by fluoroscopy (0-3)\",\n",
    "    \"thal\": \"Thalassemia status (categorical)\",\n",
    "    \"target\": \"Heart disease diagnosis (0 = no disease, >0 = disease)\",\n",
    "    \"age_group\": \"Derived age group for ANOVA\"\n",
    "}\n",
    "\n",
    "var_rows = []\n",
    "for col in df.columns:\n",
    "    desc = desc_map.get(col, \"No description available (check original dataset documentation)\")\n",
    "    var_rows.append((col, desc))\n",
    "\n",
    "var_df = pd.DataFrame(var_rows, columns=[\"Variable\", \"Description\"])\n"
   ]
  },
  {
   "cell_type": "code",
   "execution_count": 15,
   "id": "22348f6a",
   "metadata": {},
   "outputs": [],
   "source": [
    "# === Step 8: Dataset info frame ===\n",
    "dataset_info = pd.DataFrame({\n",
    "    \"Attribute\": [\"Dataset Name\", \"Source\", \"Original file\", \"Rows (after cleaning)\", \"Columns kept\", \"Cleaning notes\"],\n",
    "    \"Value\": [\n",
    "        \"Cleveland Heart Disease (subset)\",\n",
    "        \"UCI Repository / Kaggle\",\n",
    "        csv_path,\n",
    "        str(df.shape[0]),\n",
    "        \", \".join(df.columns.tolist()),\n",
    "        \"Standardized names, dropped rows with missing essential values, converted numeric types where possible.\"\n",
    "    ]\n",
    "})\n",
    "\n",
    "# === Step 9: Numeric summary & categorical counts (for Summary sheet) ===\n",
    "summary_numeric = df.select_dtypes(include=[np.number]).describe().T.reset_index().rename(columns={\"index\":\"variable\"})\n",
    "cat_counts = {}\n",
    "for c in df.select_dtypes(exclude=[np.number, \"datetime\"]).columns:\n",
    "    if df[c].nunique() <= 50:  \n",
    "        cat_counts[c] = df[c].value_counts(dropna=False).reset_index().rename(columns={\"index\": c, 0:\"count\"})\n"
   ]
  },
  {
   "cell_type": "code",
   "execution_count": 16,
   "id": "36a45309",
   "metadata": {},
   "outputs": [
    {
     "name": "stdout",
     "output_type": "stream",
     "text": [
      "Saved cleaned Excel to: heart_case_study_cleaned.xlsx\n",
      "\n",
      "Sample of cleaned data:\n",
      " id  age    sex   dataset      chest_pain  resting_bp  cholesterol fasting_bs       rest_ecg  thalch  exercise_angina  st_depression    st_slope  vessels              thal  target age_group\n",
      "  1   63   Male Cleveland  typical angina       145.0        233.0       True lv hypertrophy   150.0            False            2.3 downsloping      0.0      fixed defect       0       >60\n",
      "  2   67   Male Cleveland    asymptomatic       160.0        286.0      False lv hypertrophy   108.0             True            1.5        flat      3.0            normal       2       >60\n",
      "  3   67   Male Cleveland    asymptomatic       120.0        229.0      False lv hypertrophy   129.0             True            2.6        flat      2.0 reversable defect       1       >60\n",
      "  4   37   Male Cleveland     non-anginal       130.0        250.0      False         normal   187.0            False            3.5 downsloping      0.0            normal       0     30-45\n",
      "  5   41 Female Cleveland atypical angina       130.0        204.0      False lv hypertrophy   172.0            False            1.4   upsloping      0.0            normal       0     30-45\n",
      "\n",
      "Variable dictionary preview:\n",
      "       Variable                                                     Description\n",
      "             id                          Unique patient identifier (if present)\n",
      "            age                                                    Age in years\n",
      "            sex                                               Sex (Male/Female)\n",
      "        dataset No description available (check original dataset documentation)\n",
      "     chest_pain                                   Chest pain type (categorical)\n",
      "     resting_bp                                  Resting blood pressure (mm Hg)\n",
      "    cholesterol                                       Serum cholesterol (mg/dl)\n",
      "     fasting_bs                    Fasting blood sugar > 120 mg/dl (True/False)\n",
      "       rest_ecg              Resting electrocardiographic results (categorical)\n",
      "         thalch No description available (check original dataset documentation)\n",
      "exercise_angina                            Exercise-induced angina (True/False)\n",
      "  st_depression                               ST depression induced by exercise\n",
      "       st_slope                           Slope of the peak exercise ST segment\n",
      "        vessels            Number of major vessels colored by fluoroscopy (0-3)\n",
      "           thal                                Thalassemia status (categorical)\n",
      "         target          Heart disease diagnosis (0 = no disease, >0 = disease)\n",
      "      age_group                                     Derived age group for ANOVA\n"
     ]
    }
   ],
   "source": [
    "# === Step 10: Save to Excel ===\n",
    "with pd.ExcelWriter(output_file, engine=\"openpyxl\") as writer:\n",
    "    dataset_info.to_excel(writer, sheet_name=\"README\", index=False, startrow=0)\n",
    "    var_df.to_excel(writer, sheet_name=\"README\", index=False, startrow=8)\n",
    "    df.to_excel(writer, sheet_name=\"CleanedData\", index=False)\n",
    "    summary_numeric.to_excel(writer, sheet_name=\"Summary\", index=False, startrow=0)\n",
    "    row = len(summary_numeric) + 3\n",
    "    for cname, cdf in cat_counts.items():\n",
    "        cdf.to_excel(writer, sheet_name=\"Summary\", index=False, startrow=row)\n",
    "        row += len(cdf) + 3\n",
    "\n",
    "print(f\"Saved cleaned Excel to: {output_file}\")\n",
    "print(\"\\nSample of cleaned data:\")\n",
    "print(df.head().to_string(index=False))\n",
    "print(\"\\nVariable dictionary preview:\")\n",
    "print(var_df.to_string(index=False))"
   ]
  },
  {
   "cell_type": "code",
   "execution_count": null,
   "id": "632f6fa2",
   "metadata": {},
   "outputs": [],
   "source": []
  }
 ],
 "metadata": {
  "kernelspec": {
   "display_name": "Python 3",
   "language": "python",
   "name": "python3"
  },
  "language_info": {
   "codemirror_mode": {
    "name": "ipython",
    "version": 3
   },
   "file_extension": ".py",
   "mimetype": "text/x-python",
   "name": "python",
   "nbconvert_exporter": "python",
   "pygments_lexer": "ipython3",
   "version": "3.11.4"
  }
 },
 "nbformat": 4,
 "nbformat_minor": 5
}
